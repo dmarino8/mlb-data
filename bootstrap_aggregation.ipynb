{
 "cells": [
  {
   "cell_type": "code",
   "execution_count": null,
   "metadata": {},
   "outputs": [],
   "source": [
    "from sklearn import datasets\n",
    "from sklearn.model_selection import train_test_split\n",
    "from sklearn.metrics import accuracy_score\n",
    "from sklearn.tree import DecisionTreeClassifier\n",
    "import pandas as pd\n",
    "from sklearn import linear_model\n",
    "from sklearn import metrics\n",
    "import matplotlib.pyplot as plt\n",
    "import math"
   ]
  },
  {
   "cell_type": "code",
   "execution_count": null,
   "metadata": {},
   "outputs": [],
   "source": [
    "df_normalized = pd.read_csv('csv_files/mlb_normalized.csv')"
   ]
  },
  {
   "cell_type": "code",
   "execution_count": null,
   "metadata": {},
   "outputs": [],
   "source": [
    "normalized_x = df_normalized[df_normalized.columns[1:13]]\n",
    "normalized_y_score_1 = df_normalized[df_normalized.columns[14:15]]\n",
    "normalized_y_score_2 = df_normalized[df_normalized.columns[15:16]]"
   ]
  },
  {
   "cell_type": "code",
   "execution_count": null,
   "metadata": {},
   "outputs": [],
   "source": [
    "normalized_x_train = normalized_x[50:]\n",
    "normalized_x_test = normalized_x[:50]\n",
    "normalized_y_score_1_train = normalized_x[50:]\n",
    "normalized_y_score_1_test = normalized_x[:50]\n",
    "normalized_y_score_2_train = normalized_x[50:]\n",
    "normalized_y_score_2_test = normalized_x[:50]"
   ]
  },
  {
   "cell_type": "code",
   "execution_count": null,
   "metadata": {},
   "outputs": [],
   "source": [
    "length_min = 0\n",
    "length_max = len(normalized_x_test)"
   ]
  },
  {
   "cell_type": "code",
   "execution_count": null,
   "metadata": {},
   "outputs": [],
   "source": [
    "dtree_score_1 = DecisionTreeClassifier(random_state = 22)\n",
    "dtree_score_1.fit(normalized_x, normalized_y_score_1)\n",
    "dtree_score_2 = DecisionTreeClassifier(random_state = 22)\n",
    "dtree_score_2.fit(normalized_x, normalized_y_score_2)"
   ]
  },
  {
   "cell_type": "code",
   "execution_count": null,
   "metadata": {},
   "outputs": [],
   "source": [
    "predicted_score_1 = []\n",
    "predicted_score_2 = []\n",
    "predicted_score_1 = dtree_score_1.predict(normalized_x)\n",
    "predicted_score_2 = dtree_score_2.predict(normalized_x)"
   ]
  },
  {
   "cell_type": "code",
   "execution_count": null,
   "metadata": {},
   "outputs": [],
   "source": [
    "results = df_normalized[df_normalized.columns[16:17]]\n",
    "results = results[length_min:length_max]\n",
    "\n",
    "generated_results = []\n",
    "\n",
    "for i in range(length_max - length_min):\n",
    "    if predicted_score_1[i] < predicted_score_2[i]:\n",
    "        generated_results.append(1)\n",
    "    else:\n",
    "        generated_results.append(0)\n",
    "\n",
    "confusion_matrix = metrics.confusion_matrix(generated_results, results)\n",
    "\n",
    "cm_display = metrics.ConfusionMatrixDisplay(\n",
    "    confusion_matrix=confusion_matrix, display_labels=[False, True])\n",
    "\n",
    "cm_display.plot()\n",
    "plt.show()\n",
    "Accuracy = metrics.accuracy_score(generated_results, results)\n",
    "print(Accuracy*100)"
   ]
  }
 ],
 "metadata": {
  "kernelspec": {
   "display_name": "Python 3.10.7 64-bit",
   "language": "python",
   "name": "python3"
  },
  "language_info": {
   "codemirror_mode": {
    "name": "ipython",
    "version": 3
   },
   "file_extension": ".py",
   "mimetype": "text/x-python",
   "name": "python",
   "nbconvert_exporter": "python",
   "pygments_lexer": "ipython3",
   "version": "3.10.7"
  },
  "orig_nbformat": 4,
  "vscode": {
   "interpreter": {
    "hash": "e7370f93d1d0cde622a1f8e1c04877d8463912d04d973331ad4851f04de6915a"
   }
  }
 },
 "nbformat": 4,
 "nbformat_minor": 2
}
